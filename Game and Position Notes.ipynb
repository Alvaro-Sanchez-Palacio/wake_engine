{
 "cells": [
  {
   "cell_type": "code",
   "execution_count": 1,
   "metadata": {},
   "outputs": [],
   "source": [
    "from game import Game\n",
    "from position import Position\n",
    "from board import Board\n",
    "from board import pretty_print_bb as pprint\n",
    "from constants import Piece, SquarePosition as sq\n",
    "from move import Move\n",
    "\n",
    "import numpy as np"
   ]
  },
  {
   "cell_type": "code",
   "execution_count": 2,
   "metadata": {},
   "outputs": [],
   "source": [
    "game = Game()"
   ]
  },
  {
   "cell_type": "code",
   "execution_count": 3,
   "metadata": {},
   "outputs": [
    {
     "data": {
      "text/plain": [
       "{'board': <board.Board at 0x103190490>,\n",
       " 'to_move': 0,\n",
       " 'castle_rights': {0: True, 1: True},\n",
       " 'en_passant_target': None,\n",
       " 'halfmove_clock': 0,\n",
       " 'piece_map': {1: {8, 9, 10, 11, 12, 13, 14, 15},\n",
       "  2: {0, 7},\n",
       "  3: {1, 6},\n",
       "  4: {2, 5},\n",
       "  5: {3},\n",
       "  6: {4},\n",
       "  7: {48, 49, 50, 51, 52, 53, 54, 55},\n",
       "  8: {56, 63},\n",
       "  9: {57, 62},\n",
       "  10: {58, 61},\n",
       "  11: {59},\n",
       "  12: {60}}}"
      ]
     },
     "execution_count": 3,
     "metadata": {},
     "output_type": "execute_result"
    }
   ],
   "source": [
    "game.get_current_position().__dict__"
   ]
  },
  {
   "cell_type": "code",
   "execution_count": 4,
   "metadata": {},
   "outputs": [
    {
     "data": {
      "text/plain": [
       "<board.Board at 0x103190490>"
      ]
     },
     "execution_count": 4,
     "metadata": {},
     "output_type": "execute_result"
    }
   ],
   "source": [
    "position = game.get_current_position()\n",
    "position.board"
   ]
  },
  {
   "cell_type": "code",
   "execution_count": 5,
   "metadata": {},
   "outputs": [
    {
     "name": "stdout",
     "output_type": "stream",
     "text": [
      "8  ░ ░ ░ ░ ░ ░ ░ ░\n",
      "7  ░ ░ ░ ░ ░ ░ ░ ░\n",
      "6  ░ ░ ░ ░ ░ ░ ░ ░\n",
      "5  ░ ░ ░ ░ ░ ░ ░ ░\n",
      "4  ░ ░ ░ ░ ░ ░ ░ ░\n",
      "3  ░ ░ ░ ░ ░ ░ ░ ░\n",
      "2  ▓ ▓ ▓ ▓ ▓ ▓ ▓ ▓\n",
      "1  ▓ ▓ ▓ ▓ ▓ ▓ ▓ ▓\n",
      "   A B C D E F G H\n"
     ]
    }
   ],
   "source": [
    "pprint(position.board.white_pieces_bb)"
   ]
  },
  {
   "cell_type": "code",
   "execution_count": 6,
   "metadata": {},
   "outputs": [
    {
     "name": "stdout",
     "output_type": "stream",
     "text": [
      "8  ▓ ▓ ▓ ▓ ▓ ▓ ▓ ▓\n",
      "7  ▓ ▓ ▓ ▓ ▓ ▓ ▓ ▓\n",
      "6  ░ ░ ░ ░ ░ ░ ░ ░\n",
      "5  ░ ░ ░ ░ ░ ░ ░ ░\n",
      "4  ░ ░ ░ ░ ░ ░ ░ ░\n",
      "3  ░ ░ ░ ░ ░ ░ ░ ░\n",
      "2  ░ ░ ░ ░ ░ ░ ░ ░\n",
      "1  ░ ░ ░ ░ ░ ░ ░ ░\n",
      "   A B C D E F G H\n",
      "8  ▓ ▓ ▓ ▓ ▓ ▓ ▓ ▓\n",
      "7  ▓ ▓ ▓ ▓ ▓ ▓ ▓ ▓\n",
      "6  ░ ░ ░ ░ ░ ░ ░ ░\n",
      "5  ░ ░ ░ ░ ░ ░ ░ ░\n",
      "4  ░ ░ ░ ░ ░ ░ ░ ░\n",
      "3  ░ ░ ░ ░ ░ ░ ░ ░\n",
      "2  ▓ ▓ ▓ ▓ ▓ ▓ ▓ ▓\n",
      "1  ▓ ▓ ▓ ▓ ▓ ▓ ▓ ▓\n",
      "   A B C D E F G H\n"
     ]
    }
   ],
   "source": [
    "pprint(position.board.black_pieces_bb)\n",
    "pprint(position.board.white_pieces_bb | position.board.black_pieces_bb)"
   ]
  },
  {
   "cell_type": "code",
   "execution_count": 7,
   "metadata": {},
   "outputs": [
    {
     "data": {
      "text/plain": [
       "{1: {8, 9, 10, 11, 12, 13, 14, 15},\n",
       " 2: {0, 7},\n",
       " 3: {1, 6},\n",
       " 4: {2, 5},\n",
       " 5: {3},\n",
       " 6: {4},\n",
       " 7: {48, 49, 50, 51, 52, 53, 54, 55},\n",
       " 8: {56, 63},\n",
       " 9: {57, 62},\n",
       " 10: {58, 61},\n",
       " 11: {59},\n",
       " 12: {60}}"
      ]
     },
     "execution_count": 7,
     "metadata": {},
     "output_type": "execute_result"
    }
   ],
   "source": [
    "position = game.get_current_position()\n",
    "position.piece_map"
   ]
  },
  {
   "cell_type": "code",
   "execution_count": 8,
   "metadata": {},
   "outputs": [
    {
     "data": {
      "text/plain": [
       "'-- TODO: generate FEN --'"
      ]
     },
     "execution_count": 8,
     "metadata": {},
     "output_type": "execute_result"
    }
   ],
   "source": [
    "move = Move(Piece.wP, (sq.e2, sq.e4), False, False)\n",
    "position.make_move(move)"
   ]
  },
  {
   "cell_type": "code",
   "execution_count": 9,
   "metadata": {},
   "outputs": [
    {
     "data": {
      "text/plain": [
       "array([1, 1, 1, 1, 1, 1, 1, 1, 1, 1, 1, 1, 0, 1, 1, 1, 0, 0, 0, 0, 0, 0,\n",
       "       0, 0, 0, 0, 0, 0, 1, 0, 0, 0, 0, 0, 0, 0, 0, 0, 0, 0, 0, 0, 0, 0,\n",
       "       0, 0, 0, 0, 0, 0, 0, 0, 0, 0, 0, 0, 0, 0, 0, 0, 0, 0, 0, 0],\n",
       "      dtype=int8)"
      ]
     },
     "execution_count": 9,
     "metadata": {},
     "output_type": "execute_result"
    }
   ],
   "source": [
    "position.board.white_pieces_bb"
   ]
  },
  {
   "cell_type": "code",
   "execution_count": 10,
   "metadata": {},
   "outputs": [
    {
     "name": "stdout",
     "output_type": "stream",
     "text": [
      "8  ▓ ▓ ▓ ▓ ▓ ▓ ▓ ▓\n",
      "7  ▓ ▓ ▓ ▓ ▓ ▓ ▓ ▓\n",
      "6  ░ ░ ░ ░ ░ ░ ░ ░\n",
      "5  ░ ░ ░ ░ ░ ░ ░ ░\n",
      "4  ░ ░ ░ ░ ▓ ░ ░ ░\n",
      "3  ░ ░ ░ ░ ░ ░ ░ ░\n",
      "2  ▓ ▓ ▓ ▓ ░ ▓ ▓ ▓\n",
      "1  ▓ ▓ ▓ ▓ ▓ ▓ ▓ ▓\n",
      "   A B C D E F G H\n"
     ]
    }
   ],
   "source": [
    "pprint(position.board.occupied_squares_bb)"
   ]
  },
  {
   "cell_type": "code",
   "execution_count": 11,
   "metadata": {},
   "outputs": [
    {
     "data": {
      "text/plain": [
       "'-- TODO: generate FEN --'"
      ]
     },
     "execution_count": 11,
     "metadata": {},
     "output_type": "execute_result"
    }
   ],
   "source": [
    "move = Move(Piece.bP, (sq.e7, sq.e5), False, False)\n",
    "position.make_move(move)"
   ]
  },
  {
   "cell_type": "code",
   "execution_count": 12,
   "metadata": {},
   "outputs": [
    {
     "name": "stdout",
     "output_type": "stream",
     "text": [
      "8  ▓ ▓ ▓ ▓ ▓ ▓ ▓ ▓\n",
      "7  ▓ ▓ ▓ ▓ ░ ▓ ▓ ▓\n",
      "6  ░ ░ ░ ░ ░ ░ ░ ░\n",
      "5  ░ ░ ░ ░ ▓ ░ ░ ░\n",
      "4  ░ ░ ░ ░ ▓ ░ ░ ░\n",
      "3  ░ ░ ░ ░ ░ ░ ░ ░\n",
      "2  ▓ ▓ ▓ ▓ ░ ▓ ▓ ▓\n",
      "1  ▓ ▓ ▓ ▓ ▓ ▓ ▓ ▓\n",
      "   A B C D E F G H\n"
     ]
    }
   ],
   "source": [
    "pprint(position.board.occupied_squares_bb)"
   ]
  },
  {
   "cell_type": "code",
   "execution_count": 13,
   "metadata": {},
   "outputs": [
    {
     "data": {
      "text/plain": [
       "'-- TODO: generate FEN --'"
      ]
     },
     "execution_count": 13,
     "metadata": {},
     "output_type": "execute_result"
    }
   ],
   "source": [
    "move = Move(Piece.wN, (sq.g1, sq.f3), False, False)\n",
    "position.make_move(move)"
   ]
  },
  {
   "cell_type": "code",
   "execution_count": 14,
   "metadata": {},
   "outputs": [
    {
     "name": "stdout",
     "output_type": "stream",
     "text": [
      "8  ▓ ▓ ▓ ▓ ▓ ▓ ▓ ▓\n",
      "7  ▓ ▓ ▓ ▓ ░ ▓ ▓ ▓\n",
      "6  ░ ░ ░ ░ ░ ░ ░ ░\n",
      "5  ░ ░ ░ ░ ▓ ░ ░ ░\n",
      "4  ░ ░ ░ ░ ▓ ░ ░ ░\n",
      "3  ░ ░ ░ ░ ░ ▓ ░ ░\n",
      "2  ▓ ▓ ▓ ▓ ░ ▓ ▓ ▓\n",
      "1  ▓ ▓ ▓ ▓ ▓ ▓ ░ ▓\n",
      "   A B C D E F G H\n"
     ]
    }
   ],
   "source": [
    "pprint(position.board.occupied_squares_bb)"
   ]
  },
  {
   "cell_type": "code",
   "execution_count": 15,
   "metadata": {},
   "outputs": [
    {
     "name": "stdout",
     "output_type": "stream",
     "text": [
      "8  ▓ ░ ▓ ▓ ▓ ▓ ▓ ▓\n",
      "7  ▓ ▓ ▓ ▓ ░ ▓ ▓ ▓\n",
      "6  ░ ░ ▓ ░ ░ ░ ░ ░\n",
      "5  ░ ░ ░ ░ ▓ ░ ░ ░\n",
      "4  ░ ░ ░ ░ ▓ ░ ░ ░\n",
      "3  ░ ░ ░ ░ ░ ▓ ░ ░\n",
      "2  ▓ ▓ ▓ ▓ ░ ▓ ▓ ▓\n",
      "1  ▓ ▓ ▓ ▓ ▓ ▓ ░ ▓\n",
      "   A B C D E F G H\n"
     ]
    }
   ],
   "source": [
    "move = Move(Piece.bN, (sq.b8, sq.c6), False, False)\n",
    "position.make_move(move)\n",
    "pprint(position.board.occupied_squares_bb)"
   ]
  },
  {
   "cell_type": "code",
   "execution_count": 16,
   "metadata": {},
   "outputs": [
    {
     "name": "stdout",
     "output_type": "stream",
     "text": [
      "8  ▓ ░ ▓ ▓ ▓ ▓ ▓ ▓\n",
      "7  ▓ ▓ ▓ ▓ ░ ▓ ▓ ▓\n",
      "6  ░ ░ ▓ ░ ░ ░ ░ ░\n",
      "5  ░ ▓ ░ ░ ▓ ░ ░ ░\n",
      "4  ░ ░ ░ ░ ▓ ░ ░ ░\n",
      "3  ░ ░ ░ ░ ░ ▓ ░ ░\n",
      "2  ▓ ▓ ▓ ▓ ░ ▓ ▓ ▓\n",
      "1  ▓ ▓ ▓ ▓ ▓ ░ ░ ▓\n",
      "   A B C D E F G H\n"
     ]
    }
   ],
   "source": [
    "move = Move(Piece.wB, (sq.f1, sq.b5), False, False)\n",
    "position.make_move(move)\n",
    "pprint(position.board.occupied_squares_bb)"
   ]
  },
  {
   "cell_type": "code",
   "execution_count": 17,
   "metadata": {},
   "outputs": [
    {
     "name": "stdout",
     "output_type": "stream",
     "text": [
      "8  ▓ ░ ▓ ▓ ▓ ▓ ▓ ▓\n",
      "7  ░ ▓ ▓ ▓ ░ ▓ ▓ ▓\n",
      "6  ▓ ░ ▓ ░ ░ ░ ░ ░\n",
      "5  ░ ▓ ░ ░ ▓ ░ ░ ░\n",
      "4  ░ ░ ░ ░ ▓ ░ ░ ░\n",
      "3  ░ ░ ░ ░ ░ ▓ ░ ░\n",
      "2  ▓ ▓ ▓ ▓ ░ ▓ ▓ ▓\n",
      "1  ▓ ▓ ▓ ▓ ▓ ░ ░ ▓\n",
      "   A B C D E F G H\n"
     ]
    }
   ],
   "source": [
    "move = Move(Piece.bP, (sq.a7, sq.a6), False, False)\n",
    "position.make_move(move)\n",
    "pprint(position.board.occupied_squares_bb)"
   ]
  },
  {
   "cell_type": "code",
   "execution_count": 18,
   "metadata": {},
   "outputs": [
    {
     "name": "stdout",
     "output_type": "stream",
     "text": [
      "8  ▓ ░ ▓ ▓ ▓ ▓ ▓ ▓\n",
      "7  ░ ▓ ▓ ▓ ░ ▓ ▓ ▓\n",
      "6  ▓ ░ ▓ ░ ░ ░ ░ ░\n",
      "5  ░ ░ ░ ░ ▓ ░ ░ ░\n",
      "4  ▓ ░ ░ ░ ▓ ░ ░ ░\n",
      "3  ░ ░ ░ ░ ░ ▓ ░ ░\n",
      "2  ▓ ▓ ▓ ▓ ░ ▓ ▓ ▓\n",
      "1  ▓ ▓ ▓ ▓ ▓ ░ ░ ▓\n",
      "   A B C D E F G H\n"
     ]
    }
   ],
   "source": [
    "move = Move(Piece.wB, (sq.b5, sq.a4), False, False)\n",
    "position.make_move(move)\n",
    "pprint(position.board.occupied_squares_bb)"
   ]
  },
  {
   "cell_type": "code",
   "execution_count": 19,
   "metadata": {},
   "outputs": [
    {
     "name": "stdout",
     "output_type": "stream",
     "text": [
      "8  ▓ ░ ▓ ▓ ▓ ▓ ▓ ▓\n",
      "7  ░ ░ ▓ ▓ ░ ▓ ▓ ▓\n",
      "6  ▓ ░ ▓ ░ ░ ░ ░ ░\n",
      "5  ░ ▓ ░ ░ ▓ ░ ░ ░\n",
      "4  ▓ ░ ░ ░ ▓ ░ ░ ░\n",
      "3  ░ ░ ░ ░ ░ ▓ ░ ░\n",
      "2  ▓ ▓ ▓ ▓ ░ ▓ ▓ ▓\n",
      "1  ▓ ▓ ▓ ▓ ▓ ░ ░ ▓\n",
      "   A B C D E F G H\n"
     ]
    }
   ],
   "source": [
    "move = Move(Piece.bP, (sq.b7, sq.b5), False, False)\n",
    "position.make_move(move)\n",
    "pprint(position.board.occupied_squares_bb)"
   ]
  },
  {
   "cell_type": "code",
   "execution_count": 20,
   "metadata": {},
   "outputs": [
    {
     "name": "stdout",
     "output_type": "stream",
     "text": [
      "8  ▓ ░ ▓ ▓ ▓ ▓ ▓ ▓\n",
      "7  ░ ░ ▓ ▓ ░ ▓ ▓ ▓\n",
      "6  ▓ ░ ▓ ░ ░ ░ ░ ░\n",
      "5  ░ ▓ ░ ░ ▓ ░ ░ ░\n",
      "4  ░ ░ ░ ░ ▓ ░ ░ ░\n",
      "3  ░ ▓ ░ ░ ░ ▓ ░ ░\n",
      "2  ▓ ▓ ▓ ▓ ░ ▓ ▓ ▓\n",
      "1  ▓ ▓ ▓ ▓ ▓ ░ ░ ▓\n",
      "   A B C D E F G H\n"
     ]
    }
   ],
   "source": [
    "move = Move(Piece.wB, (sq.a4, sq.b3), False, False)\n",
    "position.make_move(move)\n",
    "pprint(position.board.occupied_squares_bb)"
   ]
  },
  {
   "cell_type": "code",
   "execution_count": 21,
   "metadata": {},
   "outputs": [
    {
     "name": "stdout",
     "output_type": "stream",
     "text": [
      "8  ▓ ░ ▓ ▓ ▓ ▓ ░ ▓\n",
      "7  ░ ░ ▓ ▓ ░ ▓ ▓ ▓\n",
      "6  ▓ ░ ▓ ░ ░ ▓ ░ ░\n",
      "5  ░ ▓ ░ ░ ▓ ░ ░ ░\n",
      "4  ░ ░ ░ ░ ▓ ░ ░ ░\n",
      "3  ░ ▓ ░ ░ ░ ▓ ░ ░\n",
      "2  ▓ ▓ ▓ ▓ ░ ▓ ▓ ▓\n",
      "1  ▓ ▓ ▓ ▓ ▓ ░ ░ ▓\n",
      "   A B C D E F G H\n"
     ]
    }
   ],
   "source": [
    "move = Move(Piece.bN, (sq.g8, sq.f6), False, False)\n",
    "position.make_move(move)\n",
    "pprint(position.board.occupied_squares_bb)"
   ]
  },
  {
   "cell_type": "code",
   "execution_count": 22,
   "metadata": {},
   "outputs": [
    {
     "name": "stdout",
     "output_type": "stream",
     "text": [
      "8  ░ ░ ░ ░ ░ ░ ░ ░\n",
      "7  ░ ░ ░ ░ ░ ░ ░ ░\n",
      "6  ░ ░ ░ ░ ░ ░ ░ ░\n",
      "5  ░ ░ ░ ░ ░ ░ ░ ░\n",
      "4  ░ ░ ░ ░ ░ ░ ░ ░\n",
      "3  ░ ░ ░ ░ ░ ░ ░ ░\n",
      "2  ░ ░ ░ ░ ▓ ░ ░ ░\n",
      "1  ░ ░ ░ ░ ░ ░ ░ ░\n",
      "   A B C D E F G H\n"
     ]
    }
   ],
   "source": [
    "u = np.zeros(64, dtype=\"byte\")\n",
    "u[12] = 1\n",
    "pprint(u)"
   ]
  },
  {
   "cell_type": "code",
   "execution_count": 23,
   "metadata": {},
   "outputs": [
    {
     "name": "stdout",
     "output_type": "stream",
     "text": [
      "8  ░ ░ ░ ░ ░ ░ ░ ░\n",
      "7  ░ ░ ░ ░ ░ ░ ░ ░\n",
      "6  ░ ░ ░ ░ ░ ░ ░ ░\n",
      "5  ░ ░ ░ ░ ░ ░ ░ ░\n",
      "4  ░ ░ ░ ░ ░ ░ ░ ░\n",
      "3  ░ ░ ░ ▓ ░ ▓ ░ ░\n",
      "2  ░ ░ ░ ░ ▓ ░ ░ ░\n",
      "1  ░ ░ ░ ░ ░ ░ ░ ░\n",
      "   A B C D E F G H\n"
     ]
    }
   ],
   "source": [
    "u[12+9] = 1\n",
    "u[12+7] = 1\n",
    "\n",
    "pprint(u)"
   ]
  },
  {
   "cell_type": "code",
   "execution_count": 24,
   "metadata": {},
   "outputs": [],
   "source": [
    "u = np.zeros(64, dtype=\"byte\")\n",
    "u[12] = 1\n",
    "u[27] = 1\n",
    "x = np.packbits(u)"
   ]
  },
  {
   "cell_type": "code",
   "execution_count": 25,
   "metadata": {},
   "outputs": [
    {
     "data": {
      "text/plain": [
       "array([0, 0, 0, 0, 0, 0, 0, 0, 0, 0, 0, 0, 1, 0, 0, 0, 0, 0, 0, 0, 0, 0,\n",
       "       0, 0, 0, 0, 0, 1, 0, 0, 0, 0, 0, 0, 0, 0, 0, 0, 0, 0, 0, 0, 0, 0,\n",
       "       0, 0, 0, 0, 0, 0, 0, 0, 0, 0, 0, 0, 0, 0, 0, 0, 0, 0, 0, 0],\n",
       "      dtype=int8)"
      ]
     },
     "execution_count": 25,
     "metadata": {},
     "output_type": "execute_result"
    }
   ],
   "source": [
    "u"
   ]
  },
  {
   "cell_type": "code",
   "execution_count": 26,
   "metadata": {},
   "outputs": [
    {
     "data": {
      "text/plain": [
       "array([ 0,  8,  0, 16,  0,  0,  0,  0], dtype=uint8)"
      ]
     },
     "execution_count": 26,
     "metadata": {},
     "output_type": "execute_result"
    }
   ],
   "source": [
    "x"
   ]
  },
  {
   "cell_type": "markdown",
   "metadata": {},
   "source": [
    "### Try np.int64 bibtboard size 1"
   ]
  },
  {
   "cell_type": "code",
   "execution_count": 56,
   "metadata": {},
   "outputs": [],
   "source": [
    "bitboard = np.zeros(1, dtype=np.uint64)"
   ]
  },
  {
   "cell_type": "code",
   "execution_count": 57,
   "metadata": {},
   "outputs": [
    {
     "data": {
      "text/plain": [
       "b'\\x00\\x00\\x00\\x00\\x00\\x00\\x00\\x00'"
      ]
     },
     "execution_count": 57,
     "metadata": {},
     "output_type": "execute_result"
    }
   ],
   "source": [
    "bitboard.tobytes()"
   ]
  },
  {
   "cell_type": "code",
   "execution_count": 58,
   "metadata": {},
   "outputs": [],
   "source": [
    "def print_binary_string(bb):\n",
    "    get_bin = lambda x, n: format(x, 'b').zfill(n)\n",
    "    return get_bin(bb[0], 64)"
   ]
  },
  {
   "cell_type": "code",
   "execution_count": 59,
   "metadata": {},
   "outputs": [
    {
     "data": {
      "text/plain": [
       "'0000000000000000000000000000000000000000000000000000000000000000'"
      ]
     },
     "execution_count": 59,
     "metadata": {},
     "output_type": "execute_result"
    }
   ],
   "source": [
    "print_binary_string(bitboard)"
   ]
  },
  {
   "cell_type": "code",
   "execution_count": 60,
   "metadata": {},
   "outputs": [],
   "source": [
    "bitboard[0] = 123983"
   ]
  },
  {
   "cell_type": "code",
   "execution_count": 61,
   "metadata": {},
   "outputs": [
    {
     "data": {
      "text/plain": [
       "'0000000000000000000000000000000000000000000000011110010001001111'"
      ]
     },
     "execution_count": 61,
     "metadata": {},
     "output_type": "execute_result"
    }
   ],
   "source": [
    "print_binary_string(bitboard)"
   ]
  },
  {
   "cell_type": "code",
   "execution_count": 62,
   "metadata": {},
   "outputs": [
    {
     "data": {
      "text/plain": [
       "104"
      ]
     },
     "execution_count": 62,
     "metadata": {},
     "output_type": "execute_result"
    }
   ],
   "source": [
    "from sys import getsizeof\n",
    "getsizeof(bitboard)"
   ]
  },
  {
   "cell_type": "code",
   "execution_count": 63,
   "metadata": {},
   "outputs": [
    {
     "data": {
      "text/plain": [
       "160"
      ]
     },
     "execution_count": 63,
     "metadata": {},
     "output_type": "execute_result"
    }
   ],
   "source": [
    "getsizeof(position.board.white_pieces_bb)"
   ]
  },
  {
   "cell_type": "code",
   "execution_count": 64,
   "metadata": {},
   "outputs": [],
   "source": [
    "import string\n",
    "board_size = 8\n",
    "\n",
    "def pprint_bb(bb):\n",
    "    val = ''\n",
    "    display_rank = board_size\n",
    "    board = reversed(bb)\n",
    "    \n",
    "    for i, char in enumerate(board):\n",
    "        if not i % 8:\n",
    "            val += f'\\n{display_rank}'\n",
    "            display_rank -= 1\n",
    "        if int(char):\n",
    "            val += ' ▓'\n",
    "            continue\n",
    "        val += ' ░'\n",
    "    val += '\\n '\n",
    "    \n",
    "    for char in string.ascii_uppercase[:board_size]:\n",
    "        val += f' {char}'\n",
    "    print(val)\n"
   ]
  },
  {
   "cell_type": "code",
   "execution_count": 65,
   "metadata": {},
   "outputs": [
    {
     "name": "stdout",
     "output_type": "stream",
     "text": [
      "\n",
      "8 ▓ ▓ ▓ ▓ ░ ░ ▓ ░\n",
      "7 ░ ░ ▓ ░ ░ ▓ ▓ ▓\n",
      "6 ▓ ░ ░ ░ ░ ░ ░ ░\n",
      "5 ░ ░ ░ ░ ░ ░ ░ ░\n",
      "4 ░ ░ ░ ░ ░ ░ ░ ░\n",
      "3 ░ ░ ░ ░ ░ ░ ░ ░\n",
      "2 ░ ░ ░ ░ ░ ░ ░ ░\n",
      "1 ░ ░ ░ ░ ░ ░ ░ ▓\n",
      "  A B C D E F G H\n"
     ]
    }
   ],
   "source": [
    "pprint_bb(print_binary_string(bitboard | 1<<63))"
   ]
  },
  {
   "cell_type": "code",
   "execution_count": 66,
   "metadata": {},
   "outputs": [],
   "source": [
    "def set_bit(value, bit):\n",
    "    return value | (1<<bit)\n",
    "\n",
    "def clear_bit(value, bit):\n",
    "    return value & ~(1<<bit)"
   ]
  },
  {
   "cell_type": "code",
   "execution_count": 67,
   "metadata": {},
   "outputs": [
    {
     "data": {
      "text/plain": [
       "123983"
      ]
     },
     "execution_count": 67,
     "metadata": {},
     "output_type": "execute_result"
    }
   ],
   "source": [
    "bitboard[0]"
   ]
  },
  {
   "cell_type": "code",
   "execution_count": 40,
   "metadata": {},
   "outputs": [
    {
     "name": "stdout",
     "output_type": "stream",
     "text": [
      "\n",
      "8 ░ ░ ░ ░ ░ ░ ░ ░\n",
      "7 ░ ░ ░ ░ ░ ░ ░ ░\n",
      "6 ░ ░ ░ ░ ░ ░ ░ ░\n",
      "5 ░ ░ ░ ░ ░ ░ ░ ░\n",
      "4 ░ ░ ░ ░ ░ ░ ░ ░\n",
      "3 ░ ░ ░ ░ ░ ░ ░ ░\n",
      "2 ░ ░ ░ ░ ░ ░ ░ ░\n",
      "1 ░ ░ ░ ░ ░ ░ ░ ░\n",
      "  A B C D E F G H\n"
     ]
    }
   ],
   "source": [
    "import string\n",
    "\n",
    "bitboard = np.zeros(1, dtype=np.int64)\n",
    "board_size = 8\n",
    "\n",
    "def pprint_bb(bb):\n",
    "    val = ''\n",
    "    display_rank = board_size\n",
    "    board = reversed(bb)\n",
    "    \n",
    "    for i, char in enumerate(board):\n",
    "        if not i % 8:\n",
    "            val += f'\\n{display_rank}'\n",
    "            display_rank -= 1\n",
    "        if int(char):\n",
    "            val += ' ▓'\n",
    "            continue\n",
    "        val += ' ░'\n",
    "    val += '\\n '\n",
    "    \n",
    "    for char in string.ascii_uppercase[:board_size]:\n",
    "        val += f' {char}'\n",
    "    print(val)\n",
    "    \n",
    "def print_binary_string(bb):\n",
    "    get_bin = lambda x, n: format(x, 'b').zfill(n)\n",
    "    return get_bin(bb[0], 64)\n",
    "    \n",
    "pprint_bb(print_binary_string(bitboard))"
   ]
  },
  {
   "cell_type": "code",
   "execution_count": 43,
   "metadata": {},
   "outputs": [
    {
     "data": {
      "text/plain": [
       "array([18446744073709551616], dtype=object)"
      ]
     },
     "execution_count": 43,
     "metadata": {},
     "output_type": "execute_result"
    }
   ],
   "source": [
    "bitboard | 1 << 64"
   ]
  },
  {
   "cell_type": "code",
   "execution_count": 44,
   "metadata": {},
   "outputs": [
    {
     "ename": "TypeError",
     "evalue": "ufunc 'bitwise_or' not supported for the input types, and the inputs could not be safely coerced to any supported types according to the casting rule ''safe''",
     "output_type": "error",
     "traceback": [
      "\u001b[0;31m---------------------------------------------------------------------------\u001b[0m",
      "\u001b[0;31mTypeError\u001b[0m                                 Traceback (most recent call last)",
      "\u001b[0;32m<ipython-input-44-2a9ec245e401>\u001b[0m in \u001b[0;36m<module>\u001b[0;34m\u001b[0m\n\u001b[0;32m----> 1\u001b[0;31m \u001b[0mnp\u001b[0m\u001b[0;34m.\u001b[0m\u001b[0mbitwise_or\u001b[0m\u001b[0;34m(\u001b[0m\u001b[0mbitboard\u001b[0m\u001b[0;34m,\u001b[0m \u001b[0;36m1\u001b[0m \u001b[0;34m<<\u001b[0m \u001b[0;36m63\u001b[0m\u001b[0;34m)\u001b[0m\u001b[0;34m\u001b[0m\u001b[0;34m\u001b[0m\u001b[0m\n\u001b[0m",
      "\u001b[0;31mTypeError\u001b[0m: ufunc 'bitwise_or' not supported for the input types, and the inputs could not be safely coerced to any supported types according to the casting rule ''safe''"
     ]
    }
   ],
   "source": [
    "np.bitwise_or(bitboard, 1 << 63)"
   ]
  },
  {
   "cell_type": "code",
   "execution_count": null,
   "metadata": {},
   "outputs": [],
   "source": []
  }
 ],
 "metadata": {
  "kernelspec": {
   "display_name": "Python 3",
   "language": "python",
   "name": "python3"
  },
  "language_info": {
   "codemirror_mode": {
    "name": "ipython",
    "version": 3
   },
   "file_extension": ".py",
   "mimetype": "text/x-python",
   "name": "python",
   "nbconvert_exporter": "python",
   "pygments_lexer": "ipython3",
   "version": "3.8.5"
  }
 },
 "nbformat": 4,
 "nbformat_minor": 4
}
