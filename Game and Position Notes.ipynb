{
 "cells": [
  {
   "cell_type": "code",
   "execution_count": 1,
   "metadata": {},
   "outputs": [],
   "source": [
    "from game import Game\n",
    "from position import Position\n",
    "from board import Board\n",
    "from board import pretty_print_bb as pprint\n",
    "from constants import Piece, SquarePosition as sq\n",
    "from move import Move\n",
    "\n",
    "import numpy as np"
   ]
  },
  {
   "cell_type": "code",
   "execution_count": 2,
   "metadata": {},
   "outputs": [],
   "source": [
    "game = Game()"
   ]
  },
  {
   "cell_type": "code",
   "execution_count": 3,
   "metadata": {},
   "outputs": [
    {
     "data": {
      "text/plain": [
       "{'board': <board.Board at 0x10ef530d0>,\n",
       " 'to_move': 0,\n",
       " 'castle_rights': {0: True, 1: True},\n",
       " 'en_passant_target': None,\n",
       " 'halfmove_clock': 0,\n",
       " 'piece_map': {1: {8, 9, 10, 11, 12, 13, 14, 15},\n",
       "  2: {0, 7},\n",
       "  3: {1, 6},\n",
       "  4: {2, 5},\n",
       "  5: {3},\n",
       "  6: {4},\n",
       "  7: {48, 49, 50, 51, 52, 53, 54, 55},\n",
       "  8: {56, 63},\n",
       "  9: {57, 62},\n",
       "  10: {58, 61},\n",
       "  11: {59},\n",
       "  12: {60}}}"
      ]
     },
     "execution_count": 3,
     "metadata": {},
     "output_type": "execute_result"
    }
   ],
   "source": [
    "game.get_current_position().__dict__"
   ]
  },
  {
   "cell_type": "code",
   "execution_count": 4,
   "metadata": {},
   "outputs": [
    {
     "data": {
      "text/plain": [
       "<board.Board at 0x10ef530d0>"
      ]
     },
     "execution_count": 4,
     "metadata": {},
     "output_type": "execute_result"
    }
   ],
   "source": [
    "position = game.get_current_position()\n",
    "position.board"
   ]
  },
  {
   "cell_type": "code",
   "execution_count": 5,
   "metadata": {},
   "outputs": [
    {
     "name": "stdout",
     "output_type": "stream",
     "text": [
      "8  ░ ░ ░ ░ ░ ░ ░ ░\n",
      "7  ░ ░ ░ ░ ░ ░ ░ ░\n",
      "6  ░ ░ ░ ░ ░ ░ ░ ░\n",
      "5  ░ ░ ░ ░ ░ ░ ░ ░\n",
      "4  ░ ░ ░ ░ ░ ░ ░ ░\n",
      "3  ░ ░ ░ ░ ░ ░ ░ ░\n",
      "2  ▓ ▓ ▓ ▓ ▓ ▓ ▓ ▓\n",
      "1  ▓ ▓ ▓ ▓ ▓ ▓ ▓ ▓\n",
      "   A B C D E F G H\n"
     ]
    }
   ],
   "source": [
    "pprint(position.board.white_pieces_bb)"
   ]
  },
  {
   "cell_type": "code",
   "execution_count": 6,
   "metadata": {},
   "outputs": [
    {
     "name": "stdout",
     "output_type": "stream",
     "text": [
      "8  ▓ ▓ ▓ ▓ ▓ ▓ ▓ ▓\n",
      "7  ▓ ▓ ▓ ▓ ▓ ▓ ▓ ▓\n",
      "6  ░ ░ ░ ░ ░ ░ ░ ░\n",
      "5  ░ ░ ░ ░ ░ ░ ░ ░\n",
      "4  ░ ░ ░ ░ ░ ░ ░ ░\n",
      "3  ░ ░ ░ ░ ░ ░ ░ ░\n",
      "2  ░ ░ ░ ░ ░ ░ ░ ░\n",
      "1  ░ ░ ░ ░ ░ ░ ░ ░\n",
      "   A B C D E F G H\n",
      "8  ▓ ▓ ▓ ▓ ▓ ▓ ▓ ▓\n",
      "7  ▓ ▓ ▓ ▓ ▓ ▓ ▓ ▓\n",
      "6  ░ ░ ░ ░ ░ ░ ░ ░\n",
      "5  ░ ░ ░ ░ ░ ░ ░ ░\n",
      "4  ░ ░ ░ ░ ░ ░ ░ ░\n",
      "3  ░ ░ ░ ░ ░ ░ ░ ░\n",
      "2  ▓ ▓ ▓ ▓ ▓ ▓ ▓ ▓\n",
      "1  ▓ ▓ ▓ ▓ ▓ ▓ ▓ ▓\n",
      "   A B C D E F G H\n"
     ]
    }
   ],
   "source": [
    "pprint(position.board.black_pieces_bb)\n",
    "pprint(position.board.white_pieces_bb | position.board.black_pieces_bb)"
   ]
  },
  {
   "cell_type": "code",
   "execution_count": 7,
   "metadata": {},
   "outputs": [
    {
     "data": {
      "text/plain": [
       "{1: {8, 9, 10, 11, 12, 13, 14, 15},\n",
       " 2: {0, 7},\n",
       " 3: {1, 6},\n",
       " 4: {2, 5},\n",
       " 5: {3},\n",
       " 6: {4},\n",
       " 7: {48, 49, 50, 51, 52, 53, 54, 55},\n",
       " 8: {56, 63},\n",
       " 9: {57, 62},\n",
       " 10: {58, 61},\n",
       " 11: {59},\n",
       " 12: {60}}"
      ]
     },
     "execution_count": 7,
     "metadata": {},
     "output_type": "execute_result"
    }
   ],
   "source": [
    "position = game.get_current_position()\n",
    "position.piece_map"
   ]
  },
  {
   "cell_type": "code",
   "execution_count": 8,
   "metadata": {},
   "outputs": [
    {
     "data": {
      "text/plain": [
       "'-- TODO: generate FEN --'"
      ]
     },
     "execution_count": 8,
     "metadata": {},
     "output_type": "execute_result"
    }
   ],
   "source": [
    "move = Move(Piece.wP, (sq.e2, sq.e4), False, False)\n",
    "position.make_move(move)"
   ]
  },
  {
   "cell_type": "code",
   "execution_count": 9,
   "metadata": {},
   "outputs": [
    {
     "data": {
      "text/plain": [
       "array([1, 1, 1, 1, 1, 1, 1, 1, 1, 1, 1, 1, 0, 1, 1, 1, 0, 0, 0, 0, 0, 0,\n",
       "       0, 0, 0, 0, 0, 0, 1, 0, 0, 0, 0, 0, 0, 0, 0, 0, 0, 0, 0, 0, 0, 0,\n",
       "       0, 0, 0, 0, 0, 0, 0, 0, 0, 0, 0, 0, 0, 0, 0, 0, 0, 0, 0, 0],\n",
       "      dtype=int8)"
      ]
     },
     "execution_count": 9,
     "metadata": {},
     "output_type": "execute_result"
    }
   ],
   "source": [
    "position.board.white_pieces_bb"
   ]
  },
  {
   "cell_type": "code",
   "execution_count": 10,
   "metadata": {},
   "outputs": [
    {
     "name": "stdout",
     "output_type": "stream",
     "text": [
      "8  ▓ ▓ ▓ ▓ ▓ ▓ ▓ ▓\n",
      "7  ▓ ▓ ▓ ▓ ▓ ▓ ▓ ▓\n",
      "6  ░ ░ ░ ░ ░ ░ ░ ░\n",
      "5  ░ ░ ░ ░ ░ ░ ░ ░\n",
      "4  ░ ░ ░ ░ ▓ ░ ░ ░\n",
      "3  ░ ░ ░ ░ ░ ░ ░ ░\n",
      "2  ▓ ▓ ▓ ▓ ░ ▓ ▓ ▓\n",
      "1  ▓ ▓ ▓ ▓ ▓ ▓ ▓ ▓\n",
      "   A B C D E F G H\n"
     ]
    }
   ],
   "source": [
    "pprint(position.board.occupied_squares_bb)"
   ]
  },
  {
   "cell_type": "code",
   "execution_count": 11,
   "metadata": {},
   "outputs": [
    {
     "data": {
      "text/plain": [
       "'-- TODO: generate FEN --'"
      ]
     },
     "execution_count": 11,
     "metadata": {},
     "output_type": "execute_result"
    }
   ],
   "source": [
    "move = Move(Piece.bP, (sq.e7, sq.e5), False, False)\n",
    "position.make_move(move)"
   ]
  },
  {
   "cell_type": "code",
   "execution_count": 12,
   "metadata": {},
   "outputs": [
    {
     "name": "stdout",
     "output_type": "stream",
     "text": [
      "8  ▓ ▓ ▓ ▓ ▓ ▓ ▓ ▓\n",
      "7  ▓ ▓ ▓ ▓ ░ ▓ ▓ ▓\n",
      "6  ░ ░ ░ ░ ░ ░ ░ ░\n",
      "5  ░ ░ ░ ░ ▓ ░ ░ ░\n",
      "4  ░ ░ ░ ░ ▓ ░ ░ ░\n",
      "3  ░ ░ ░ ░ ░ ░ ░ ░\n",
      "2  ▓ ▓ ▓ ▓ ░ ▓ ▓ ▓\n",
      "1  ▓ ▓ ▓ ▓ ▓ ▓ ▓ ▓\n",
      "   A B C D E F G H\n"
     ]
    }
   ],
   "source": [
    "pprint(position.board.occupied_squares_bb)"
   ]
  },
  {
   "cell_type": "code",
   "execution_count": 13,
   "metadata": {},
   "outputs": [
    {
     "data": {
      "text/plain": [
       "'-- TODO: generate FEN --'"
      ]
     },
     "execution_count": 13,
     "metadata": {},
     "output_type": "execute_result"
    }
   ],
   "source": [
    "move = Move(Piece.wN, (sq.g1, sq.f3), False, False)\n",
    "position.make_move(move)"
   ]
  },
  {
   "cell_type": "code",
   "execution_count": 14,
   "metadata": {},
   "outputs": [
    {
     "name": "stdout",
     "output_type": "stream",
     "text": [
      "8  ▓ ▓ ▓ ▓ ▓ ▓ ▓ ▓\n",
      "7  ▓ ▓ ▓ ▓ ░ ▓ ▓ ▓\n",
      "6  ░ ░ ░ ░ ░ ░ ░ ░\n",
      "5  ░ ░ ░ ░ ▓ ░ ░ ░\n",
      "4  ░ ░ ░ ░ ▓ ░ ░ ░\n",
      "3  ░ ░ ░ ░ ░ ▓ ░ ░\n",
      "2  ▓ ▓ ▓ ▓ ░ ▓ ▓ ▓\n",
      "1  ▓ ▓ ▓ ▓ ▓ ▓ ░ ▓\n",
      "   A B C D E F G H\n"
     ]
    }
   ],
   "source": [
    "pprint(position.board.occupied_squares_bb)"
   ]
  },
  {
   "cell_type": "code",
   "execution_count": 15,
   "metadata": {},
   "outputs": [
    {
     "name": "stdout",
     "output_type": "stream",
     "text": [
      "8  ▓ ░ ▓ ▓ ▓ ▓ ▓ ▓\n",
      "7  ▓ ▓ ▓ ▓ ░ ▓ ▓ ▓\n",
      "6  ░ ░ ▓ ░ ░ ░ ░ ░\n",
      "5  ░ ░ ░ ░ ▓ ░ ░ ░\n",
      "4  ░ ░ ░ ░ ▓ ░ ░ ░\n",
      "3  ░ ░ ░ ░ ░ ▓ ░ ░\n",
      "2  ▓ ▓ ▓ ▓ ░ ▓ ▓ ▓\n",
      "1  ▓ ▓ ▓ ▓ ▓ ▓ ░ ▓\n",
      "   A B C D E F G H\n"
     ]
    }
   ],
   "source": [
    "move = Move(Piece.bN, (sq.b8, sq.c6), False, False)\n",
    "position.make_move(move)\n",
    "pprint(position.board.occupied_squares_bb)"
   ]
  },
  {
   "cell_type": "code",
   "execution_count": 16,
   "metadata": {},
   "outputs": [
    {
     "name": "stdout",
     "output_type": "stream",
     "text": [
      "8  ▓ ░ ▓ ▓ ▓ ▓ ▓ ▓\n",
      "7  ▓ ▓ ▓ ▓ ░ ▓ ▓ ▓\n",
      "6  ░ ░ ▓ ░ ░ ░ ░ ░\n",
      "5  ░ ▓ ░ ░ ▓ ░ ░ ░\n",
      "4  ░ ░ ░ ░ ▓ ░ ░ ░\n",
      "3  ░ ░ ░ ░ ░ ▓ ░ ░\n",
      "2  ▓ ▓ ▓ ▓ ░ ▓ ▓ ▓\n",
      "1  ▓ ▓ ▓ ▓ ▓ ░ ░ ▓\n",
      "   A B C D E F G H\n"
     ]
    }
   ],
   "source": [
    "move = Move(Piece.wB, (sq.f1, sq.b5), False, False)\n",
    "position.make_move(move)\n",
    "pprint(position.board.occupied_squares_bb)"
   ]
  },
  {
   "cell_type": "code",
   "execution_count": 18,
   "metadata": {},
   "outputs": [
    {
     "name": "stdout",
     "output_type": "stream",
     "text": [
      "8  ▓ ░ ▓ ▓ ▓ ▓ ▓ ▓\n",
      "7  ░ ▓ ▓ ▓ ░ ▓ ▓ ▓\n",
      "6  ▓ ░ ▓ ░ ░ ░ ░ ░\n",
      "5  ░ ▓ ░ ░ ▓ ░ ░ ░\n",
      "4  ░ ░ ░ ░ ▓ ░ ░ ░\n",
      "3  ░ ░ ░ ░ ░ ▓ ░ ░\n",
      "2  ▓ ▓ ▓ ▓ ░ ▓ ▓ ▓\n",
      "1  ▓ ▓ ▓ ▓ ▓ ░ ░ ▓\n",
      "   A B C D E F G H\n"
     ]
    }
   ],
   "source": [
    "move = Move(Piece.bP, (sq.a7, sq.a6), False, False)\n",
    "position.make_move(move)\n",
    "pprint(position.board.occupied_squares_bb)"
   ]
  },
  {
   "cell_type": "code",
   "execution_count": null,
   "metadata": {},
   "outputs": [],
   "source": []
  }
 ],
 "metadata": {
  "kernelspec": {
   "display_name": "Python 3",
   "language": "python",
   "name": "python3"
  },
  "language_info": {
   "codemirror_mode": {
    "name": "ipython",
    "version": 3
   },
   "file_extension": ".py",
   "mimetype": "text/x-python",
   "name": "python",
   "nbconvert_exporter": "python",
   "pygments_lexer": "ipython3",
   "version": "3.8.5"
  }
 },
 "nbformat": 4,
 "nbformat_minor": 4
}
