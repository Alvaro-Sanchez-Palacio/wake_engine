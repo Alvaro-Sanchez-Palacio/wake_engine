{
 "cells": [
  {
   "cell_type": "code",
   "execution_count": 1,
   "metadata": {},
   "outputs": [],
   "source": [
    "import numpy as np\n",
    "from board import Board, pretty_print_bb\n",
    "from constants import SquarePosition as sq"
   ]
  },
  {
   "cell_type": "code",
   "execution_count": 2,
   "metadata": {},
   "outputs": [],
   "source": [
    "board = Board()"
   ]
  },
  {
   "cell_type": "code",
   "execution_count": 3,
   "metadata": {},
   "outputs": [],
   "source": [
    "state = board.update_occupied_squares_bb()"
   ]
  },
  {
   "cell_type": "code",
   "execution_count": 4,
   "metadata": {},
   "outputs": [
    {
     "name": "stdout",
     "output_type": "stream",
     "text": [
      "8  ▓ ▓ ▓ ▓ ▓ ▓ ▓ ▓\n",
      "7  ▓ ▓ ▓ ▓ ▓ ▓ ▓ ▓\n",
      "6  ░ ░ ░ ░ ░ ░ ░ ░\n",
      "5  ░ ░ ░ ░ ░ ░ ░ ░\n",
      "4  ░ ░ ░ ░ ░ ░ ░ ░\n",
      "3  ░ ░ ░ ░ ░ ░ ░ ░\n",
      "2  ▓ ▓ ▓ ▓ ▓ ▓ ▓ ▓\n",
      "1  ▓ ▓ ▓ ▓ ▓ ▓ ▓ ▓\n",
      "   A B C D E F G H\n"
     ]
    }
   ],
   "source": [
    "pretty_print_bb(board.occupied_squares_bb)"
   ]
  },
  {
   "cell_type": "code",
   "execution_count": 5,
   "metadata": {},
   "outputs": [],
   "source": [
    "white_pawns = board.white_P_bb\n",
    "white_king = board.white_K_bb"
   ]
  },
  {
   "cell_type": "code",
   "execution_count": 6,
   "metadata": {},
   "outputs": [
    {
     "name": "stdout",
     "output_type": "stream",
     "text": [
      "8  ░ ░ ░ ░ ░ ░ ░ ░\n",
      "7  ░ ░ ░ ░ ░ ░ ░ ░\n",
      "6  ░ ░ ░ ░ ░ ░ ░ ░\n",
      "5  ░ ░ ░ ░ ░ ░ ░ ░\n",
      "4  ░ ░ ░ ░ ░ ░ ░ ░\n",
      "3  ░ ░ ░ ░ ░ ░ ░ ░\n",
      "2  ▓ ▓ ▓ ▓ ▓ ▓ ▓ ▓\n",
      "1  ░ ░ ░ ░ ░ ░ ░ ░\n",
      "   A B C D E F G H\n"
     ]
    }
   ],
   "source": [
    "pretty_print_bb(white_pawns)"
   ]
  },
  {
   "cell_type": "code",
   "execution_count": 7,
   "metadata": {},
   "outputs": [
    {
     "name": "stdout",
     "output_type": "stream",
     "text": [
      "8  ░ ░ ░ ░ ░ ░ ░ ░\n",
      "7  ░ ░ ░ ░ ░ ░ ░ ░\n",
      "6  ░ ░ ░ ░ ░ ░ ░ ░\n",
      "5  ░ ░ ░ ░ ░ ░ ░ ░\n",
      "4  ░ ░ ░ ░ ░ ░ ░ ░\n",
      "3  ░ ░ ░ ░ ░ ░ ░ ░\n",
      "2  ░ ░ ░ ░ ░ ░ ░ ░\n",
      "1  ░ ░ ░ ░ ▓ ░ ░ ░\n",
      "   A B C D E F G H\n"
     ]
    }
   ],
   "source": [
    "pretty_print_bb(white_king)"
   ]
  },
  {
   "cell_type": "code",
   "execution_count": 8,
   "metadata": {},
   "outputs": [
    {
     "name": "stdout",
     "output_type": "stream",
     "text": [
      "8  ▓ ░ ░ ░ ░ ░ ░ ▓\n",
      "7  ░ ░ ░ ░ ░ ░ ░ ░\n",
      "6  ░ ░ ░ ░ ░ ░ ░ ░\n",
      "5  ░ ░ ░ ░ ░ ░ ░ ░\n",
      "4  ░ ░ ░ ░ ░ ░ ░ ░\n",
      "3  ░ ░ ░ ░ ░ ░ ░ ░\n",
      "2  ░ ░ ░ ░ ░ ░ ░ ░\n",
      "1  ░ ░ ░ ░ ░ ░ ░ ░\n",
      "   A B C D E F G H\n"
     ]
    }
   ],
   "source": [
    "pretty_print_bb(board.black_R_bb)"
   ]
  },
  {
   "cell_type": "code",
   "execution_count": 9,
   "metadata": {},
   "outputs": [
    {
     "name": "stdout",
     "output_type": "stream",
     "text": [
      "8  ░ ░ ░ ░ ░ ░ ░ ░\n",
      "7  ░ ░ ░ ░ ░ ░ ░ ░\n",
      "6  ▓ ▓ ▓ ▓ ▓ ▓ ▓ ▓\n",
      "5  ▓ ▓ ▓ ▓ ▓ ▓ ▓ ▓\n",
      "4  ▓ ▓ ▓ ▓ ▓ ▓ ▓ ▓\n",
      "3  ▓ ▓ ▓ ▓ ▓ ▓ ▓ ▓\n",
      "2  ░ ░ ░ ░ ░ ░ ░ ░\n",
      "1  ░ ░ ░ ░ ░ ░ ░ ░\n",
      "   A B C D E F G H\n"
     ]
    }
   ],
   "source": [
    "pretty_print_bb(board.get_empty_squares_bb())"
   ]
  },
  {
   "cell_type": "code",
   "execution_count": 10,
   "metadata": {},
   "outputs": [],
   "source": [
    "board.plus1(sq.a1)"
   ]
  },
  {
   "cell_type": "code",
   "execution_count": 11,
   "metadata": {},
   "outputs": [
    {
     "name": "stdout",
     "output_type": "stream",
     "text": [
      "8  ░ ░ ░ ░ ░ ░ ░ ░\n",
      "7  ░ ░ ░ ░ ░ ░ ░ ░\n",
      "6  ░ ░ ░ ░ ░ ░ ░ ░\n",
      "5  ░ ░ ░ ░ ░ ░ ░ ░\n",
      "4  ░ ░ ░ ░ ░ ░ ░ ░\n",
      "3  ░ ░ ░ ░ ░ ░ ░ ░\n",
      "2  ░ ░ ░ ░ ░ ░ ░ ░\n",
      "1  ▓ ▓ ▓ ▓ ▓ ▓ ▓ ▓\n",
      "   A B C D E F G H\n"
     ]
    }
   ],
   "source": [
    "pretty_print_bb(board.bb)"
   ]
  },
  {
   "cell_type": "code",
   "execution_count": 12,
   "metadata": {},
   "outputs": [
    {
     "name": "stdout",
     "output_type": "stream",
     "text": [
      "8  ░ ▓ ░ ░ ░ ░ ░ ░\n",
      "7  ░ ░ ▓ ░ ░ ░ ░ ░\n",
      "6  ░ ░ ░ ▓ ░ ░ ░ ░\n",
      "5  ░ ░ ░ ░ ▓ ░ ░ ░\n",
      "4  ░ ░ ░ ░ ░ ▓ ░ ░\n",
      "3  ░ ░ ░ ░ ░ ░ ░ ░\n",
      "2  ░ ░ ░ ░ ░ ░ ░ ░\n",
      "1  ░ ░ ░ ░ ░ ░ ░ ░\n",
      "   A B C D E F G H\n"
     ]
    }
   ],
   "source": [
    "board.reset_bb()\n",
    "board.plus7(sq.f4)\n",
    "pretty_print_bb(board.bb)"
   ]
  },
  {
   "cell_type": "code",
   "execution_count": 13,
   "metadata": {},
   "outputs": [
    {
     "name": "stdout",
     "output_type": "stream",
     "text": [
      "8  ░ ░ ░ ░ ░ ▓ ░ ░\n",
      "7  ░ ░ ░ ░ ░ ▓ ░ ░\n",
      "6  ░ ░ ░ ░ ░ ▓ ░ ░\n",
      "5  ░ ░ ░ ░ ░ ▓ ░ ░\n",
      "4  ░ ░ ░ ░ ░ ▓ ░ ░\n",
      "3  ░ ░ ░ ░ ░ ░ ░ ░\n",
      "2  ░ ░ ░ ░ ░ ░ ░ ░\n",
      "1  ░ ░ ░ ░ ░ ░ ░ ░\n",
      "   A B C D E F G H\n"
     ]
    }
   ],
   "source": [
    "board.reset_bb()\n",
    "board.plus8(sq.f4)\n",
    "pretty_print_bb(board.bb)"
   ]
  },
  {
   "cell_type": "code",
   "execution_count": 14,
   "metadata": {},
   "outputs": [
    {
     "name": "stdout",
     "output_type": "stream",
     "text": [
      "8  ░ ░ ░ ░ ░ ░ ░ ░\n",
      "7  ░ ░ ░ ░ ░ ░ ░ ░\n",
      "6  ░ ░ ░ ░ ░ ░ ░ ▓\n",
      "5  ░ ░ ░ ░ ░ ░ ▓ ░\n",
      "4  ░ ░ ░ ░ ░ ▓ ░ ░\n",
      "3  ░ ░ ░ ░ ░ ░ ░ ░\n",
      "2  ░ ░ ░ ░ ░ ░ ░ ░\n",
      "1  ░ ░ ░ ░ ░ ░ ░ ░\n",
      "   A B C D E F G H\n"
     ]
    }
   ],
   "source": [
    "board.reset_bb()\n",
    "board.plus9(sq.f4)\n",
    "pretty_print_bb(board.bb)"
   ]
  },
  {
   "cell_type": "code",
   "execution_count": 15,
   "metadata": {},
   "outputs": [
    {
     "name": "stdout",
     "output_type": "stream",
     "text": [
      "8  ░ ░ ░ ░ ░ ░ ░ ░\n",
      "7  ░ ░ ░ ░ ░ ░ ░ ░\n",
      "6  ░ ░ ░ ░ ░ ░ ░ ░\n",
      "5  ░ ░ ░ ░ ░ ░ ░ ░\n",
      "4  ░ ░ ░ ▓ ░ ░ ░ ░\n",
      "3  ░ ░ ▓ ░ ░ ░ ░ ░\n",
      "2  ░ ▓ ░ ░ ░ ░ ░ ░\n",
      "1  ▓ ░ ░ ░ ░ ░ ░ ░\n",
      "   A B C D E F G H\n"
     ]
    }
   ],
   "source": [
    "board.reset_bb()\n",
    "board.minus9(sq.d4)\n",
    "pretty_print_bb(board.bb)"
   ]
  },
  {
   "cell_type": "code",
   "execution_count": 16,
   "metadata": {},
   "outputs": [
    {
     "name": "stdout",
     "output_type": "stream",
     "text": [
      "8  ░ ░ ░ ░ ░ ░ ░ ░\n",
      "7  ░ ░ ░ ░ ░ ░ ░ ░\n",
      "6  ░ ░ ░ ░ ░ ░ ░ ░\n",
      "5  ▓ ▓ ▓ ▓ ▓ ▓ ░ ░\n",
      "4  ░ ░ ░ ░ ░ ░ ░ ░\n",
      "3  ░ ░ ░ ░ ░ ░ ░ ░\n",
      "2  ░ ░ ░ ░ ░ ░ ░ ░\n",
      "1  ░ ░ ░ ░ ░ ░ ░ ░\n",
      "   A B C D E F G H\n"
     ]
    }
   ],
   "source": [
    "board.reset_bb()\n",
    "board.minus1(sq.f5)\n",
    "pretty_print_bb(board.bb)"
   ]
  },
  {
   "cell_type": "code",
   "execution_count": 17,
   "metadata": {},
   "outputs": [
    {
     "name": "stdout",
     "output_type": "stream",
     "text": [
      "8  ░ ░ ░ ░ ░ ░ ░ ░\n",
      "7  ░ ░ ░ ░ ░ ░ ░ ░\n",
      "6  ░ ░ ░ ░ ░ ░ ░ ░\n",
      "5  ░ ░ ░ ▓ ░ ░ ░ ░\n",
      "4  ░ ░ ░ ░ ▓ ░ ░ ░\n",
      "3  ░ ░ ░ ░ ░ ▓ ░ ░\n",
      "2  ░ ░ ░ ░ ░ ░ ▓ ░\n",
      "1  ░ ░ ░ ░ ░ ░ ░ ▓\n",
      "   A B C D E F G H\n"
     ]
    }
   ],
   "source": [
    "board.reset_bb()\n",
    "board.minus7(sq.d5)\n",
    "pretty_print_bb(board.bb)"
   ]
  },
  {
   "cell_type": "code",
   "execution_count": 18,
   "metadata": {},
   "outputs": [
    {
     "name": "stdout",
     "output_type": "stream",
     "text": [
      "8  ░ ▓ ░ ░ ░ ░ ░ ░\n",
      "7  ░ ░ ▓ ░ ░ ░ ░ ░\n",
      "6  ░ ░ ░ ▓ ░ ░ ░ ░\n",
      "5  ░ ░ ░ ░ ▓ ░ ░ ░\n",
      "4  ░ ░ ░ ░ ░ ▓ ░ ░\n",
      "3  ░ ░ ░ ░ ░ ░ ▓ ░\n",
      "2  ░ ░ ░ ░ ░ ░ ░ ▓\n",
      "1  ░ ░ ░ ░ ░ ░ ░ ░\n",
      "   A B C D E F G H\n"
     ]
    }
   ],
   "source": [
    "board.reset_bb()\n",
    "board.minus7(sq.b8)\n",
    "pretty_print_bb(board.bb)"
   ]
  },
  {
   "cell_type": "code",
   "execution_count": 19,
   "metadata": {},
   "outputs": [
    {
     "name": "stdout",
     "output_type": "stream",
     "text": [
      "8  ░ ░ ░ ░ ░ ░ ▓ ░\n",
      "7  ░ ░ ░ ░ ░ ░ ░ ▓\n",
      "6  ░ ░ ░ ░ ░ ░ ░ ░\n",
      "5  ░ ░ ░ ░ ░ ░ ░ ░\n",
      "4  ░ ░ ░ ░ ░ ░ ░ ░\n",
      "3  ░ ░ ░ ░ ░ ░ ░ ░\n",
      "2  ░ ░ ░ ░ ░ ░ ░ ░\n",
      "1  ░ ░ ░ ░ ░ ░ ░ ░\n",
      "   A B C D E F G H\n"
     ]
    }
   ],
   "source": [
    "board.reset_bb()\n",
    "board.minus7(sq.g8)\n",
    "pretty_print_bb(board.bb)"
   ]
  },
  {
   "cell_type": "code",
   "execution_count": 20,
   "metadata": {},
   "outputs": [
    {
     "name": "stdout",
     "output_type": "stream",
     "text": [
      "8  ░ ░ ░ ░ ░ ░ ░ ░\n",
      "7  ░ ░ ░ ░ ░ ░ ░ ░\n",
      "6  ░ ░ ░ ░ ░ ░ ░ ░\n",
      "5  ░ ░ ░ ▓ ░ ░ ░ ░\n",
      "4  ░ ░ ░ ▓ ░ ░ ░ ░\n",
      "3  ░ ░ ░ ▓ ░ ░ ░ ░\n",
      "2  ░ ░ ░ ▓ ░ ░ ░ ░\n",
      "1  ░ ░ ░ ▓ ░ ░ ░ ░\n",
      "   A B C D E F G H\n"
     ]
    }
   ],
   "source": [
    "board.reset_bb()\n",
    "board.minus8(sq.d5)\n",
    "pretty_print_bb(board.bb)"
   ]
  },
  {
   "cell_type": "code",
   "execution_count": 21,
   "metadata": {},
   "outputs": [
    {
     "name": "stdout",
     "output_type": "stream",
     "text": [
      "8  ░ ░ ░ ░ ░ ░ ░ ░\n",
      "7  ░ ░ ░ ░ ░ ░ ░ ░\n",
      "6  ░ ░ ░ ░ ░ ░ ░ ░\n",
      "5  ▓ ▓ ▓ ▓ ░ ░ ░ ░\n",
      "4  ░ ░ ░ ░ ░ ░ ░ ░\n",
      "3  ░ ░ ░ ░ ░ ░ ░ ░\n",
      "2  ░ ░ ░ ░ ░ ░ ░ ░\n",
      "1  ░ ░ ░ ░ ░ ░ ░ ░\n",
      "   A B C D E F G H\n"
     ]
    }
   ],
   "source": [
    "board.reset_bb()\n",
    "board.minus1(sq.d5)\n",
    "pretty_print_bb(board.bb)"
   ]
  },
  {
   "cell_type": "code",
   "execution_count": 22,
   "metadata": {},
   "outputs": [
    {
     "name": "stdout",
     "output_type": "stream",
     "text": [
      "8  ░ ░ ░ ░ ░ ░ ░ ░\n",
      "7  ░ ░ ░ ░ ░ ░ ░ ░\n",
      "6  ░ ░ ░ ░ ░ ░ ░ ░\n",
      "5  ░ ░ ░ ▓ ░ ░ ░ ░\n",
      "4  ░ ░ ░ ░ ▓ ░ ░ ░\n",
      "3  ░ ░ ░ ░ ░ ▓ ░ ░\n",
      "2  ░ ░ ░ ░ ░ ░ ▓ ░\n",
      "1  ░ ░ ░ ░ ░ ░ ░ ▓\n",
      "   A B C D E F G H\n"
     ]
    }
   ],
   "source": [
    "board.reset_bb()\n",
    "board.minus7(sq.d5)\n",
    "pretty_print_bb(board.bb)"
   ]
  },
  {
   "cell_type": "code",
   "execution_count": 23,
   "metadata": {},
   "outputs": [
    {
     "name": "stdout",
     "output_type": "stream",
     "text": [
      "8  ░ ░ ░ ░ ░ ░ ░ ░\n",
      "7  ░ ░ ░ ░ ░ ░ ░ ░\n",
      "6  ░ ░ ░ ░ ░ ░ ░ ░\n",
      "5  ░ ▓ ░ ▓ ░ ░ ░ ░\n",
      "4  ▓ ░ ░ ░ ▓ ░ ░ ░\n",
      "3  ░ ░ ▓ ░ ░ ░ ░ ░\n",
      "2  ▓ ░ ░ ░ ▓ ░ ░ ░\n",
      "1  ░ ▓ ░ ▓ ░ ░ ░ ░\n",
      "   A B C D E F G H\n"
     ]
    }
   ],
   "source": [
    "board.reset_bb()\n",
    "x = board.knight_attacks(sq.c3)\n",
    "pretty_print_bb(x)"
   ]
  },
  {
   "cell_type": "code",
   "execution_count": 24,
   "metadata": {},
   "outputs": [
    {
     "name": "stdout",
     "output_type": "stream",
     "text": [
      "8  ░ ░ ░ ░ ░ ░ ░ ░\n",
      "7  ░ ░ ░ ░ ▓ ░ ▓ ░\n",
      "6  ░ ░ ░ ▓ ░ ░ ░ ▓\n",
      "5  ░ ░ ░ ░ ░ ▓ ░ ░\n",
      "4  ░ ░ ░ ▓ ░ ░ ░ ▓\n",
      "3  ░ ░ ░ ░ ▓ ░ ▓ ░\n",
      "2  ░ ░ ░ ░ ░ ░ ░ ░\n",
      "1  ░ ░ ░ ░ ░ ░ ░ ░\n",
      "   A B C D E F G H\n"
     ]
    }
   ],
   "source": [
    "board.reset_bb()\n",
    "x = board.knight_attacks(sq.f5)\n",
    "pretty_print_bb(x)"
   ]
  },
  {
   "cell_type": "code",
   "execution_count": 25,
   "metadata": {},
   "outputs": [
    {
     "name": "stdout",
     "output_type": "stream",
     "text": [
      "8  ░ ░ ░ ░ ░ ░ ░ ░\n",
      "7  ░ ▓ ░ ░ ░ ░ ░ ░\n",
      "6  ░ ░ ▓ ░ ░ ░ ░ ░\n",
      "5  ▓ ░ ░ ░ ░ ░ ░ ░\n",
      "4  ░ ░ ▓ ░ ░ ░ ░ ░\n",
      "3  ░ ▓ ░ ░ ░ ░ ░ ░\n",
      "2  ░ ░ ░ ░ ░ ░ ░ ░\n",
      "1  ░ ░ ░ ░ ░ ░ ░ ░\n",
      "   A B C D E F G H\n"
     ]
    }
   ],
   "source": [
    "board.reset_bb()\n",
    "x = board.knight_attacks(sq.a5)\n",
    "pretty_print_bb(x)"
   ]
  },
  {
   "cell_type": "code",
   "execution_count": 58,
   "metadata": {},
   "outputs": [
    {
     "name": "stdout",
     "output_type": "stream",
     "text": [
      "8  ░ ░ ░ ░ ░ ▓ ░ ░\n",
      "7  ░ ░ ░ ░ ░ ░ ▓ ░\n",
      "6  ░ ░ ░ ░ ░ ░ ░ ░\n",
      "5  ░ ░ ░ ░ ░ ░ ░ ░\n",
      "4  ░ ░ ░ ░ ░ ░ ░ ░\n",
      "3  ░ ░ ░ ░ ░ ░ ▓ ░\n",
      "2  ░ ░ ░ ░ ░ ▓ ░ ░\n",
      "1  ░ ░ ░ ░ ░ ░ ░ ▓\n",
      "   A B C D E F G H\n"
     ]
    }
   ],
   "source": [
    "board.reset_bb()\n",
    "x = board.knight_attacks(sq.h1)\n",
    "pretty_print_bb(x)"
   ]
  },
  {
   "cell_type": "code",
   "execution_count": null,
   "metadata": {},
   "outputs": [],
   "source": []
  }
 ],
 "metadata": {
  "kernelspec": {
   "display_name": "Python 3",
   "language": "python",
   "name": "python3"
  },
  "language_info": {
   "codemirror_mode": {
    "name": "ipython",
    "version": 3
   },
   "file_extension": ".py",
   "mimetype": "text/x-python",
   "name": "python",
   "nbconvert_exporter": "python",
   "pygments_lexer": "ipython3",
   "version": "3.8.5"
  }
 },
 "nbformat": 4,
 "nbformat_minor": 4
}
