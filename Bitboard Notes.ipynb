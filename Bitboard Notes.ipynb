{
 "cells": [
  {
   "cell_type": "code",
   "execution_count": 1,
   "metadata": {},
   "outputs": [],
   "source": [
    "import numpy as np\n",
    "from board import Board, pretty_print_bb"
   ]
  },
  {
   "cell_type": "code",
   "execution_count": 2,
   "metadata": {},
   "outputs": [],
   "source": [
    "board = Board()"
   ]
  },
  {
   "cell_type": "code",
   "execution_count": 3,
   "metadata": {},
   "outputs": [],
   "source": [
    "state = board.update_occupied_squares_bb()"
   ]
  },
  {
   "cell_type": "code",
   "execution_count": 4,
   "metadata": {},
   "outputs": [
    {
     "name": "stdout",
     "output_type": "stream",
     "text": [
      "\n",
      " 8  ▓ ▓ ▓ ▓ ▓ ▓ ▓ ▓\n",
      "   \n",
      " 7  ▓ ▓ ▓ ▓ ▓ ▓ ▓ ▓\n",
      "   \n",
      " 6  ░ ░ ░ ░ ░ ░ ░ ░\n",
      "   \n",
      " 5  ░ ░ ░ ░ ░ ░ ░ ░\n",
      "   \n",
      " 4  ░ ░ ░ ░ ░ ░ ░ ░\n",
      "   \n",
      " 3  ░ ░ ░ ░ ░ ░ ░ ░\n",
      "   \n",
      " 2  ▓ ▓ ▓ ▓ ▓ ▓ ▓ ▓\n",
      "   \n",
      " 1  ▓ ▓ ▓ ▓ ▓ ▓ ▓ ▓\n",
      "    A B C D E F G H\n"
     ]
    }
   ],
   "source": [
    "pretty_print_bb(board.occupied_squares_bb)"
   ]
  },
  {
   "cell_type": "code",
   "execution_count": 5,
   "metadata": {},
   "outputs": [],
   "source": [
    "white_pawns = board.white_P_bb\n",
    "white_king = board.white_K_bb"
   ]
  },
  {
   "cell_type": "code",
   "execution_count": 6,
   "metadata": {},
   "outputs": [
    {
     "name": "stdout",
     "output_type": "stream",
     "text": [
      "\n",
      " 8  ░ ░ ░ ░ ░ ░ ░ ░\n",
      "   \n",
      " 7  ░ ░ ░ ░ ░ ░ ░ ░\n",
      "   \n",
      " 6  ░ ░ ░ ░ ░ ░ ░ ░\n",
      "   \n",
      " 5  ░ ░ ░ ░ ░ ░ ░ ░\n",
      "   \n",
      " 4  ░ ░ ░ ░ ░ ░ ░ ░\n",
      "   \n",
      " 3  ░ ░ ░ ░ ░ ░ ░ ░\n",
      "   \n",
      " 2  ▓ ▓ ▓ ▓ ▓ ▓ ▓ ▓\n",
      "   \n",
      " 1  ░ ░ ░ ░ ░ ░ ░ ░\n",
      "    A B C D E F G H\n",
      "\n",
      " 8  ░ ░ ░ ░ ░ ░ ░ ░\n",
      "   \n",
      " 7  ░ ░ ░ ░ ░ ░ ░ ░\n",
      "   \n",
      " 6  ░ ░ ░ ░ ░ ░ ░ ░\n",
      "   \n",
      " 5  ░ ░ ░ ░ ░ ░ ░ ░\n",
      "   \n",
      " 4  ░ ░ ░ ░ ░ ░ ░ ░\n",
      "   \n",
      " 3  ░ ░ ░ ░ ░ ░ ░ ░\n",
      "   \n",
      " 2  ░ ░ ░ ░ ░ ░ ░ ░\n",
      "   \n",
      " 1  ░ ░ ░ ░ ▓ ░ ░ ░\n",
      "    A B C D E F G H\n"
     ]
    }
   ],
   "source": [
    "pretty_print_bb(white_pawns)\n",
    "pretty_print_bb(white_king)"
   ]
  },
  {
   "cell_type": "code",
   "execution_count": 7,
   "metadata": {},
   "outputs": [
    {
     "name": "stdout",
     "output_type": "stream",
     "text": [
      "\n",
      " 8  ▓ ░ ░ ░ ░ ░ ░ ▓\n",
      "   \n",
      " 7  ░ ░ ░ ░ ░ ░ ░ ░\n",
      "   \n",
      " 6  ░ ░ ░ ░ ░ ░ ░ ░\n",
      "   \n",
      " 5  ░ ░ ░ ░ ░ ░ ░ ░\n",
      "   \n",
      " 4  ░ ░ ░ ░ ░ ░ ░ ░\n",
      "   \n",
      " 3  ░ ░ ░ ░ ░ ░ ░ ░\n",
      "   \n",
      " 2  ░ ░ ░ ░ ░ ░ ░ ░\n",
      "   \n",
      " 1  ░ ░ ░ ░ ░ ░ ░ ░\n",
      "    A B C D E F G H\n"
     ]
    }
   ],
   "source": [
    "pretty_print_bb(board.black_R_bb)"
   ]
  },
  {
   "cell_type": "code",
   "execution_count": 8,
   "metadata": {},
   "outputs": [
    {
     "name": "stdout",
     "output_type": "stream",
     "text": [
      "\n",
      " 8  ░ ░ ░ ░ ░ ░ ░ ░\n",
      "   \n",
      " 7  ░ ░ ░ ░ ░ ░ ░ ░\n",
      "   \n",
      " 6  ▓ ▓ ▓ ▓ ▓ ▓ ▓ ▓\n",
      "   \n",
      " 5  ▓ ▓ ▓ ▓ ▓ ▓ ▓ ▓\n",
      "   \n",
      " 4  ▓ ▓ ▓ ▓ ▓ ▓ ▓ ▓\n",
      "   \n",
      " 3  ▓ ▓ ▓ ▓ ▓ ▓ ▓ ▓\n",
      "   \n",
      " 2  ░ ░ ░ ░ ░ ░ ░ ░\n",
      "   \n",
      " 1  ░ ░ ░ ░ ░ ░ ░ ░\n",
      "    A B C D E F G H\n"
     ]
    }
   ],
   "source": [
    "pretty_print_bb(board.get_empty_squares_bb())"
   ]
  }
 ],
 "metadata": {
  "kernelspec": {
   "display_name": "Python 3",
   "language": "python",
   "name": "python3"
  },
  "language_info": {
   "codemirror_mode": {
    "name": "ipython",
    "version": 3
   },
   "file_extension": ".py",
   "mimetype": "text/x-python",
   "name": "python",
   "nbconvert_exporter": "python",
   "pygments_lexer": "ipython3",
   "version": "3.8.5"
  }
 },
 "nbformat": 4,
 "nbformat_minor": 4
}
