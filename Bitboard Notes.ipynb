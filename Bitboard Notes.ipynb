{
 "cells": [
  {
   "cell_type": "code",
   "execution_count": 1,
   "metadata": {},
   "outputs": [],
   "source": [
    "import numpy as np\n",
    "from board import Board"
   ]
  },
  {
   "cell_type": "code",
   "execution_count": 2,
   "metadata": {},
   "outputs": [],
   "source": [
    "board = Board()"
   ]
  },
  {
   "cell_type": "code",
   "execution_count": 3,
   "metadata": {},
   "outputs": [],
   "source": [
    "state = board.update_occupied_squares_bitboard()"
   ]
  },
  {
   "cell_type": "code",
   "execution_count": 4,
   "metadata": {},
   "outputs": [
    {
     "name": "stdout",
     "output_type": "stream",
     "text": [
      "\n",
      "XXXXXXXX\n",
      "XXXXXXXX\n",
      "--------\n",
      "--------\n",
      "--------\n",
      "--------\n",
      "XXXXXXXX\n",
      "XXXXXXXX\n"
     ]
    }
   ],
   "source": [
    "Board.pretty_print_bitboard(board.occupied_squares_bitboard)"
   ]
  },
  {
   "cell_type": "code",
   "execution_count": 5,
   "metadata": {},
   "outputs": [],
   "source": [
    "white_pawns = board.white_pawn_bitboard"
   ]
  },
  {
   "cell_type": "code",
   "execution_count": 6,
   "metadata": {},
   "outputs": [
    {
     "name": "stdout",
     "output_type": "stream",
     "text": [
      "\n",
      "--------\n",
      "XXXXXXXX\n",
      "--------\n",
      "--------\n",
      "--------\n",
      "--------\n",
      "--------\n",
      "--------\n"
     ]
    }
   ],
   "source": [
    "Board.pretty_print_bitboard(white_pawns)"
   ]
  },
  {
   "cell_type": "code",
   "execution_count": 7,
   "metadata": {},
   "outputs": [
    {
     "name": "stdout",
     "output_type": "stream",
     "text": [
      "\n",
      "--------\n",
      "--------\n",
      "--------\n",
      "--------\n",
      "--------\n",
      "--------\n",
      "--------\n",
      "X------X\n"
     ]
    }
   ],
   "source": [
    "Board.pretty_print_bitboard(board.black_rook_bitboard)"
   ]
  },
  {
   "cell_type": "code",
   "execution_count": 8,
   "metadata": {},
   "outputs": [
    {
     "name": "stdout",
     "output_type": "stream",
     "text": [
      "\n",
      "--------\n",
      "--------\n",
      "XXXXXXXX\n",
      "XXXXXXXX\n",
      "XXXXXXXX\n",
      "XXXXXXXX\n",
      "--------\n",
      "--------\n"
     ]
    }
   ],
   "source": [
    "Board.pretty_print_bitboard(board.get_empty_squares_bitboard())"
   ]
  },
  {
   "cell_type": "code",
   "execution_count": null,
   "metadata": {},
   "outputs": [],
   "source": []
  }
 ],
 "metadata": {
  "kernelspec": {
   "display_name": "Python 3",
   "language": "python",
   "name": "python3"
  },
  "language_info": {
   "codemirror_mode": {
    "name": "ipython",
    "version": 3
   },
   "file_extension": ".py",
   "mimetype": "text/x-python",
   "name": "python",
   "nbconvert_exporter": "python",
   "pygments_lexer": "ipython3",
   "version": "3.8.5"
  }
 },
 "nbformat": 4,
 "nbformat_minor": 4
}
